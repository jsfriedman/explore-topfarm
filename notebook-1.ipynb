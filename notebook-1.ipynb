{
 "cells": [
  {
   "attachments": {},
   "cell_type": "markdown",
   "metadata": {},
   "source": [
    "First we import some supporting Python libraries"
   ]
  },
  {
   "cell_type": "code",
   "execution_count": 9,
   "metadata": {},
   "outputs": [],
   "source": [
    "import topfarm\n",
    "import numpy as np\n",
    "import matplotlib.pyplot as plt"
   ]
  },
  {
   "attachments": {},
   "cell_type": "markdown",
   "metadata": {},
   "source": [
    "We start by importing the turbine and site to use as well as the wake model from PyWake.\n",
    "\n",
    "From TOPFARM we import:\n",
    "\n",
    "* TopFarmProblem. Overall topfarm problem class to which the objectives, design variables, and constraints are added\n",
    "\n",
    "* EasyScipyOptimizeDriver. A subclass of ScipyOptimizeDriver which is configured for the given workflow\n",
    "\n",
    "* get_iea37_initial, get_iea37_constraints, get_iea37_cost. Functions to get the initial layout, the constraints and the cost function for the IEA task 37 benchmark example\n",
    "\n",
    "* NoPlot, XYPlotComp. Plotting components to visualize the results\n"
   ]
  },
  {
   "cell_type": "code",
   "execution_count": 10,
   "metadata": {},
   "outputs": [],
   "source": [
    "from py_wake.deficit_models.gaussian import IEA37SimpleBastankhahGaussian     #wake model\n",
    "from py_wake.examples.data.iea37 import IEA37_WindTurbines, IEA37Site         #wind turbines and site used\n",
    "from topfarm.cost_models.py_wake_wrapper import PyWakeAEPCostModelComponent   #cost model\n",
    "\n",
    "from topfarm import TopFarmProblem\n",
    "from topfarm.easy_drivers import EasyScipyOptimizeDriver\n",
    "from topfarm.examples.iea37 import get_iea37_initial, get_iea37_constraints, get_iea37_cost\n",
    "from topfarm.plotting import NoPlot, XYPlotComp"
   ]
  },
  {
   "attachments": {},
   "cell_type": "markdown",
   "metadata": {},
   "source": [
    "First we set up the parameters for the wind farm model simulation, that is the site and wind turbine objects as well as the wind directions to study."
   ]
  },
  {
   "cell_type": "code",
   "execution_count": 11,
   "metadata": {},
   "outputs": [],
   "source": [
    "n_wt = 9\n",
    "n_wd = 16\n",
    "\n",
    "site = IEA37Site(9)\n",
    "wind_turbines = IEA37_WindTurbines()\n",
    "wd = np.linspace(0.,360.,n_wd, endpoint=False)\n",
    "wfmodel = IEA37SimpleBastankhahGaussian(site, wind_turbines)   #PyWake's wind farm model"
   ]
  },
  {
   "cell_type": "code",
   "execution_count": 13,
   "metadata": {},
   "outputs": [
    {
     "name": "stdout",
     "output_type": "stream",
     "text": [
      "<py_wake.examples.data.iea37._iea37.IEA37Site object at 0x00000268033EB8B0>\n"
     ]
    }
   ],
   "source": [
    "print(site)"
   ]
  }
 ],
 "metadata": {
  "kernelspec": {
   "display_name": "venv",
   "language": "python",
   "name": "python3"
  },
  "language_info": {
   "codemirror_mode": {
    "name": "ipython",
    "version": 3
   },
   "file_extension": ".py",
   "mimetype": "text/x-python",
   "name": "python",
   "nbconvert_exporter": "python",
   "pygments_lexer": "ipython3",
   "version": "3.10.6"
  },
  "orig_nbformat": 4
 },
 "nbformat": 4,
 "nbformat_minor": 2
}
